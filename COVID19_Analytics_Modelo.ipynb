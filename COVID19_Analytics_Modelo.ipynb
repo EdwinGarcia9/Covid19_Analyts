{
  "nbformat": 4,
  "nbformat_minor": 0,
  "metadata": {
    "colab": {
      "provenance": []
    },
    "kernelspec": {
      "name": "python3",
      "display_name": "Python 3"
    },
    "language_info": {
      "name": "python"
    }
  },
  "cells": [
    {
      "cell_type": "markdown",
      "source": [
        "#**PROBLEMA DE NEGOCIO**\n",
        "\n",
        "\n",
        "---\n",
        "\n",
        "\n"
      ],
      "metadata": {
        "id": "8UHlwBa1vgQw"
      }
    },
    {
      "cell_type": "markdown",
      "source": [
        "##Una entidad gubernamental responsable de la gestión de la salud en un país enfrenta el desafío de comprender y analizar la propagación del COVID-19 para tomar decisiones informadas y eficaces en la gestión de la pandemia. Como científico de datos, tu tarea es analizar los datos relacionados con el COVID-19 y presentar insights a través de visualizaciones que respondan a las siguientes preguntas clave:"
      ],
      "metadata": {
        "id": "rI-VFMGLvhsq"
      }
    },
    {
      "cell_type": "markdown",
      "source": [
        "### **Preguntas**\n",
        "\n",
        "1. ¿Cómo ha evolucionado el Covid-19 en el país en comparación con el impacto observado a nivel global?\n",
        "\n",
        "2. ¿Cuál ha sido la evolución de los nuevos casos diarios reportados de Covid-19 en el país a lo largo del tiempo?\n",
        "\n",
        "3. ¿Cuál es la evolución del índice de letalidad del Covid-19 en el país, comparado con los países con los índices históricos más elevados?\n",
        "\n",
        "4. Desde una perspectiva demográfica, ¿cuáles son las características que tienen un mayor impacto en el índice de letalidad de un país?\n",
        "\n",
        "5. ¿Existe otro insight que puedas proporcionar?"
      ],
      "metadata": {
        "id": "xwl9Zz61vjTz"
      }
    }
  ]
}